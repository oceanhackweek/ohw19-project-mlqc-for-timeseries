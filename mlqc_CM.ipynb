{
 "cells": [
  {
   "cell_type": "code",
   "execution_count": 39,
   "metadata": {},
   "outputs": [],
   "source": [
    "from __future__ import division\n",
    "import numpy as np\n",
    "import pandas as pd\n",
    "import os\n",
    "\n",
    "#from sklearn.cross_validation import KFold\n",
    "from sklearn.ensemble import GradientBoostingRegressor as gbReg\n",
    "from sklearn.ensemble import RandomForestRegressor as rfReg\n",
    "from sklearn.metrics import mean_squared_error\n",
    "from sklearn.metrics import r2_score\n",
    "#from sklearn.cross_validation import train_test_split\n",
    "import matplotlib.pyplot as plt\n",
    "import hvplot.pandas"
   ]
  },
  {
   "cell_type": "code",
   "execution_count": 40,
   "metadata": {},
   "outputs": [
    {
     "data": {
      "text/html": [
       "<div>\n",
       "<style scoped>\n",
       "    .dataframe tbody tr th:only-of-type {\n",
       "        vertical-align: middle;\n",
       "    }\n",
       "\n",
       "    .dataframe tbody tr th {\n",
       "        vertical-align: top;\n",
       "    }\n",
       "\n",
       "    .dataframe thead th {\n",
       "        text-align: right;\n",
       "    }\n",
       "</style>\n",
       "<table border=\"1\" class=\"dataframe\">\n",
       "  <thead>\n",
       "    <tr style=\"text-align: right;\">\n",
       "      <th></th>\n",
       "      <th>time</th>\n",
       "      <th>primary</th>\n",
       "      <th>sigma</th>\n",
       "      <th>backup</th>\n",
       "      <th>verified</th>\n",
       "      <th>prediction</th>\n",
       "    </tr>\n",
       "  </thead>\n",
       "  <tbody>\n",
       "    <tr>\n",
       "      <th>0</th>\n",
       "      <td>2007-01-01 00:00:00</td>\n",
       "      <td>0.459</td>\n",
       "      <td>0.006</td>\n",
       "      <td>0.446</td>\n",
       "      <td>0.459</td>\n",
       "      <td>0.385</td>\n",
       "    </tr>\n",
       "    <tr>\n",
       "      <th>1</th>\n",
       "      <td>2007-01-01 00:06:00</td>\n",
       "      <td>0.437</td>\n",
       "      <td>0.005</td>\n",
       "      <td>0.425</td>\n",
       "      <td>0.437</td>\n",
       "      <td>0.365</td>\n",
       "    </tr>\n",
       "    <tr>\n",
       "      <th>2</th>\n",
       "      <td>2007-01-01 00:12:00</td>\n",
       "      <td>0.400</td>\n",
       "      <td>0.006</td>\n",
       "      <td>0.388</td>\n",
       "      <td>0.400</td>\n",
       "      <td>0.344</td>\n",
       "    </tr>\n",
       "    <tr>\n",
       "      <th>3</th>\n",
       "      <td>2007-01-01 00:18:00</td>\n",
       "      <td>0.376</td>\n",
       "      <td>0.006</td>\n",
       "      <td>0.363</td>\n",
       "      <td>0.376</td>\n",
       "      <td>0.321</td>\n",
       "    </tr>\n",
       "    <tr>\n",
       "      <th>4</th>\n",
       "      <td>2007-01-01 00:24:00</td>\n",
       "      <td>0.354</td>\n",
       "      <td>0.006</td>\n",
       "      <td>0.342</td>\n",
       "      <td>0.354</td>\n",
       "      <td>0.297</td>\n",
       "    </tr>\n",
       "  </tbody>\n",
       "</table>\n",
       "</div>"
      ],
      "text/plain": [
       "                  time  primary  sigma  backup  verified  prediction\n",
       "0  2007-01-01 00:00:00    0.459  0.006   0.446     0.459       0.385\n",
       "1  2007-01-01 00:06:00    0.437  0.005   0.425     0.437       0.365\n",
       "2  2007-01-01 00:12:00    0.400  0.006   0.388     0.400       0.344\n",
       "3  2007-01-01 00:18:00    0.376  0.006   0.363     0.376       0.321\n",
       "4  2007-01-01 00:24:00    0.354  0.006   0.342     0.354       0.297"
      ]
     },
     "execution_count": 40,
     "metadata": {},
     "output_type": "execute_result"
    }
   ],
   "source": [
    "#Read in the file with pandas\n",
    "fileInName=\"8536110_cm_raw_ver_merged_wl_Cleaned\"\n",
    "cmC=pd.read_pickle(fileInName)\n",
    "fileInName=\"8536110_cm_raw_ver_merged_wl_Target\"\n",
    "cmT=pd.read_pickle(fileInName)\n",
    "fileInName=\"8536110_cm_raw_ver_merged_wl_Features\"\n",
    "cmF=pd.read_pickle(fileInName)\n",
    "cmC.head()"
   ]
  },
  {
   "cell_type": "code",
   "execution_count": 41,
   "metadata": {
    "collapsed": false,
    "jupyter": {
     "outputs_hidden": false
    }
   },
   "outputs": [
    {
     "name": "stdout",
     "output_type": "stream",
     "text": [
      "(40000, 3)\n"
     ]
    }
   ],
   "source": [
    "cmV_good = cmC['verified'].loc[cmT['goodPts'] == 1]\n",
    "cmV_bad = cmC['verified'].loc[cmT['goodPts'] == 0]\n",
    "cmP_good = cmC['primary'].loc[cmT['goodPts'] == 1]\n",
    "cmP_bad = cmC['primary'].loc[cmT['goodPts'] == 0]\n",
    "cmI = cmC[['sigma','backup','prediction']]\n",
    "cmI_good=cmI.loc[cmT['goodPts'] == 1]\n",
    "cmI_bad=cmI.loc[cmT['goodPts'] == 0]\n",
    "\n",
    "cmI.head()\n",
    "print(np.shape(cmI_good[0:40000]))"
   ]
  },
  {
   "cell_type": "code",
   "execution_count": 42,
   "metadata": {},
   "outputs": [],
   "source": [
    "# Train the model\n",
    "xTrain=cmI_good[0:40000]\n",
    "yTrain=cmP_good[0:40000]\n",
    "\n",
    "classifier = 'Gradient Boost'\n",
    "if classifier == 'Random Forest':\n",
    "    clf = gbReg(max_depth = depth,n_estimators=500,random_state=100)\n",
    "if classifier == 'Gradient Boost': \n",
    "    clf = rfReg(n_estimators=1000)\n",
    "clf.fit(xTrain,yTrain)\n",
    "yMLTest = clf.predict(xTest)"
   ]
  },
  {
   "cell_type": "code",
   "execution_count": 43,
   "metadata": {},
   "outputs": [
    {
     "data": {
      "image/png": "[encoded data removed]",
      "text/plain": [
       "<Figure size 432x288 with 1 Axes>"
      ]
     },
     "metadata": {
      "needs_background": "light"
     },
     "output_type": "display_data"
    }
   ],
   "source": [
    "# How the relationshipe between verified and primary for bad points\n",
    "plt.plot(cmP_bad,cmV_bad,'.')\n",
    "cmP_bad.to_pickle(\"cm_Fig02_Primary_bad\")\n",
    "cmV_bad.to_pickle(\"cm_Fig02_Verified_bad\")\n"
   ]
  },
  {
   "cell_type": "code",
   "execution_count": 44,
   "metadata": {},
   "outputs": [
    {
     "data": {
      "image/png": "[encoded data removed]",
      "text/plain": [
       "<Figure size 432x288 with 1 Axes>"
      ]
     },
     "metadata": {
      "needs_background": "light"
     },
     "output_type": "display_data"
    }
   ],
   "source": [
    "# Verify if other chunk of good points can be predicted by the model\n",
    "xTest=cmI_good[50000:55000]\n",
    "yTest=cmV_good[50000:55000]\n",
    "\n",
    "yMLTest = clf.predict(xTest)\n",
    "plt.plot(yMLTest,yTest,'.')\n",
    "\n",
    "cmP_bad.to_pickle(\"cm_Fig01_GradientBoostModel_good\")\n",
    "cmV_bad.to_pickle(\"cm_Fig01_Verified_good\")"
   ]
  },
  {
   "cell_type": "code",
   "execution_count": 45,
   "metadata": {},
   "outputs": [
    {
     "data": {
      "image/png": "[encoded data removed]",
      "text/plain": [
       "<Figure size 432x288 with 1 Axes>"
      ]
     },
     "metadata": {
      "needs_background": "light"
     },
     "output_type": "display_data"
    }
   ],
   "source": [
    "# Verify if prediction for bad points can match verified\n",
    "xTest=cmI_bad\n",
    "yTest=cmV_bad\n",
    "\n",
    "yMLTest = clf.predict(xTest)\n",
    "plt.plot(yMLTest,yTest,'.')\n",
    "cmP_bad.to_pickle(\"cm_Fig03_GradientBoostModel_bad\")\n",
    "cmV_bad.to_pickle(\"cm_Fig03_Verified_bad\")"
   ]
  },
  {
   "cell_type": "code",
   "execution_count": 46,
   "metadata": {
    "collapsed": false,
    "jupyter": {
     "outputs_hidden": false
    }
   },
   "outputs": [
    {
     "data": {
      "text/plain": [
       "0.003926380215342115"
      ]
     },
     "execution_count": 46,
     "metadata": {},
     "output_type": "execute_result"
    }
   ],
   "source": [
    "mean_squared_error(yMLTest,yTest)"
   ]
  },
  {
   "cell_type": "code",
   "execution_count": 47,
   "metadata": {
    "collapsed": false,
    "jupyter": {
     "outputs_hidden": false
    }
   },
   "outputs": [],
   "source": [
    "# Train the model\n",
    "xTrain=cmI_good[0:40000]\n",
    "yTrain=cmP_good[0:40000]\n",
    "\n",
    "classifier = 'Random Forest'\n",
    "if classifier == 'Random Forest':\n",
    "    depth = 3\n",
    "    clf = gbReg(max_depth = depth,n_estimators=500,random_state=100)\n",
    "if classifier == 'Gradient Boost': \n",
    "    clf = rfReg(n_estimators=1000)\n",
    "clf.fit(xTrain,yTrain)\n",
    "yMLTest = clf.predict(xTest)"
   ]
  },
  {
   "cell_type": "code",
   "execution_count": 48,
   "metadata": {
    "collapsed": false,
    "jupyter": {
     "outputs_hidden": false
    }
   },
   "outputs": [
    {
     "data": {
      "image/png": "[encoded data removed]",
      "text/plain": [
       "<Figure size 432x288 with 1 Axes>"
      ]
     },
     "metadata": {
      "needs_background": "light"
     },
     "output_type": "display_data"
    }
   ],
   "source": [
    "# Verify if other chunk of good points can be predicted by the model\n",
    "xTest=cmI_good[50000:55000]\n",
    "yTest=cmV_good[50000:55000]\n",
    "\n",
    "yMLTest = clf.predict(xTest)\n",
    "plt.plot(yMLTest,yTest,'.')\n",
    "cmP_bad.to_pickle(\"cm_Fig04_RandomForestModel_good\")\n",
    "cmV_bad.to_pickle(\"cm_Fig04_Verified_good\")\n"
   ]
  },
  {
   "cell_type": "code",
   "execution_count": 49,
   "metadata": {},
   "outputs": [
    {
     "data": {
      "image/png": "[encoded data removed]",
      "text/plain": [
       "<Figure size 432x288 with 1 Axes>"
      ]
     },
     "metadata": {
      "needs_background": "light"
     },
     "output_type": "display_data"
    }
   ],
   "source": [
    "# Verify if prediction for bad points can match verified\n",
    "xTest=cmI_bad\n",
    "yTest=cmV_bad\n",
    "\n",
    "yMLTest = clf.predict(xTest)\n",
    "plt.plot(yMLTest,yTest,'.')\n",
    "cmP_bad.to_pickle(\"cm_Fig05_RandomForestModel_bad\")\n",
    "cmV_bad.to_pickle(\"cm_Fig05_Verified_bad\")"
   ]
  },
  {
   "cell_type": "code",
   "execution_count": 50,
   "metadata": {},
   "outputs": [
    {
     "data": {
      "text/plain": [
       "0.0047182212435301005"
      ]
     },
     "execution_count": 50,
     "metadata": {},
     "output_type": "execute_result"
    }
   ],
   "source": [
    "mean_squared_error(yMLTest,yTest)"
   ]
  },
  {
   "cell_type": "code",
   "execution_count": null,
   "metadata": {},
   "outputs": [],
   "source": []
  }
 ],
 "metadata": {
  "anaconda-cloud": {},
  "kernelspec": {
   "display_name": "Python 3",
   "language": "python",
   "name": "python3"
  },
  "language_info": {
   "codemirror_mode": {
    "name": "ipython",
    "version": 3
   },
   "file_extension": ".py",
   "mimetype": "text/x-python",
   "name": "python",
   "nbconvert_exporter": "python",
   "pygments_lexer": "ipython3",
   "version": "3.7.3"
  }
 },
 "nbformat": 4,
 "nbformat_minor": 4
}
