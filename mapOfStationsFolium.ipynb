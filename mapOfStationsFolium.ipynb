{
 "cells": [
  {
   "cell_type": "code",
   "execution_count": 2,
   "metadata": {},
   "outputs": [],
   "source": [
    "#load libraries\n",
    "import warnings\n",
    "warnings.simplefilter('ignore')\n",
    "import folium"
   ]
  },
  {
   "cell_type": "code",
   "execution_count": 3,
   "metadata": {},
   "outputs": [],
   "source": [
    "#define lat-lon of 5 tidal stations\n",
    "#portland\n",
    "#boston\n",
    "#ac\n",
    "#cm\n",
    "#lewes\n",
    "\n",
    "lat,lon = [43.6567, 42.3539, 39.3550,38.9678,38.7828], [-70.2467,-71.0503,-74.4183,-74.9597,-75.1192]"
   ]
  },
  {
   "cell_type": "code",
   "execution_count": 7,
   "metadata": {},
   "outputs": [
    {
     "data": {
      "text/html": [
       "<div style=\"width:100%;\"><div style=\"position:relative;width:100%;height:0;padding-bottom:60%;\"><iframe src=\"data:text/html;charset=utf-8;base64,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\" style=\"position:absolute;width:100%;height:100%;left:0;top:0;border:none !important;\" allowfullscreen webkitallowfullscreen mozallowfullscreen></iframe></div></div>"
      ],
      "text/plain": [
       "<folium.folium.Map at 0x7f3509ba37f0>"
      ]
     },
     "execution_count": 7,
     "metadata": {},
     "output_type": "execute_result"
    }
   ],
   "source": [
    "#plot on stamen terrain\n",
    "m = folium.Map(location=[lat[3], lon[3]], tiles='Stamen Terrain',zoom_start=8)\n",
    "#folium.Marker(location=[lat[0], lon[0]], popup='Portland, ME').add_to(m)\n",
    "#folium.Marker(location=[lat[1], lon[1]], popup='Boston, MA').add_to(m)\n",
    "folium.Marker(location=[lat[2], lon[2]], popup='AC').add_to(m)\n",
    "folium.Marker(location=[lat[3], lon[3]], popup='Cape Map').add_to(m)\n",
    "folium.Marker(location=[lat[4], lon[4]], popup='Lewes').add_to(m)\n",
    "#m.save('tideStations_basic_map2.html')\n",
    "m"
   ]
  },
  {
   "cell_type": "code",
   "execution_count": null,
   "metadata": {},
   "outputs": [],
   "source": []
  }
 ],
 "metadata": {
  "kernelspec": {
   "display_name": "Python 3",
   "language": "python",
   "name": "python3"
  },
  "language_info": {
   "codemirror_mode": {
    "name": "ipython",
    "version": 3
   },
   "file_extension": ".py",
   "mimetype": "text/x-python",
   "name": "python",
   "nbconvert_exporter": "python",
   "pygments_lexer": "ipython3",
   "version": "3.7.3"
  }
 },
 "nbformat": 4,
 "nbformat_minor": 4
}
