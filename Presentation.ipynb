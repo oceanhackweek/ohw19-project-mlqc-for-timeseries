{
 "cells": [
  {
   "cell_type": "markdown",
   "metadata": {},
   "source": [
    "# Presentation: MLQC "
   ]
  },
  {
   "cell_type": "code",
   "execution_count": 7,
   "metadata": {},
   "outputs": [],
   "source": [
    "import pandas as pd\n",
    "import numpy as np\n",
    "import matplotlib.pyplot as plt\n",
    "import folium\n",
    "import utils\n",
    "import os"
   ]
  },
  {
   "cell_type": "markdown",
   "metadata": {},
   "source": [
    "## Data Sources\n",
    "**====================================================================================================================**\n",
    "We will be working with tidal station gauge data from **NOAA's National Ocean Service CO-OPS** office, i.e. the Tides & Currents people. It contains information on the mean water level, standard deviations, the tidal predictions, and secondary sensor measurements recorded every **6 minutes**. Additionally, the data has been initially Quality-Controlled (QC'ed) following **QARTOD**. The data comes from the following stations along the Atlantic Coast of the US:\n",
    "1. Portland, ME\n",
    "2. Boston, MA\n",
    "3. Atlantic City, NJ\n",
    "4. Cape May, NJ\n",
    "5. Lewes, DE\n",
    "\n",
    "\n",
    "\n"
   ]
  },
  {
   "cell_type": "code",
   "execution_count": 2,
   "metadata": {},
   "outputs": [
    {
     "data": {
      "text/html": [
       "<div style=\"width:100%;\"><div style=\"position:relative;width:100%;height:0;padding-bottom:60%;\"><iframe src=\"data:text/html;charset=utf-8;base64,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\" style=\"position:absolute;width:100%;height:100%;left:0;top:0;border:none !important;\" allowfullscreen webkitallowfullscreen mozallowfullscreen></iframe></div></div>"
      ],
      "text/plain": [
       "<folium.folium.Map at 0x7f11a1c71810>"
      ]
     },
     "execution_count": 2,
     "metadata": {},
     "output_type": "execute_result"
    }
   ],
   "source": [
    "lat = [43.6567, 42.3539, 39.3550,38.9678,38.7828]\n",
    "lon = [-70.2467,-71.0503,-74.4183,-74.9597,-75.1192]\n",
    "names = ['Portland, ME','Boston, MA','Atlantic City, NJ','Cape May, NJ','Lewes, DE']\n",
    "\n",
    "m = folium.Map(location=[np.mean(lat),np.mean(lon)],tiles='Stamen Terrain',zoom_start=6)\n",
    "for x,y,n in zip(lat,lon,names):\n",
    "    folium.Marker(location=[x, y], popup=n).add_to(m)\n",
    "m"
   ]
  },
  {
   "cell_type": "markdown",
   "metadata": {},
   "source": [
    "## Data Exploration\n",
    "**====================================================================================================================**"
   ]
  },
  {
   "cell_type": "markdown",
   "metadata": {},
   "source": [
    "First, we need to import the data, which is stored on data buckets on Google cloud:\n",
    "\n",
    "        gs://ohw_example/mlqcfortimeseries/8418150_portland_raw_ver_merged_wl.csv\n",
    "        gs://ohw_example/mlqcfortimeseries/8443970_boston_raw_ver_merged_wl.csv\n",
    "        gs://ohw_example/mlqcfortimeseries/8534720_ac_raw_ver_merged_wl.csv\n",
    "        gs://ohw_example/mlqcfortimeseries/8536110_cm_raw_ver_merged_wl.csv\n",
    "        gs://ohw_example/mlqcfortimeseries/8557380_lewes_raw_ver_merged_wl.csv\n",
    "        "
   ]
  },
  {
   "cell_type": "code",
   "execution_count": 3,
   "metadata": {
    "scrolled": true
   },
   "outputs": [
    {
     "name": "stderr",
     "output_type": "stream",
     "text": [
      "/home/andrew/anaconda3/lib/python3.7/site-packages/IPython/core/interactiveshell.py:3214: DtypeWarning: Columns (4,5,8,14,16) have mixed types. Specify dtype option on import or set low_memory=False.\n",
      "  if (yield from self.run_code(code, result)):\n"
     ]
    }
   ],
   "source": [
    "# Read in the data\n",
    "dataIn = utils.readInWL('gs://ohw_example/mlqcfortimeseries/8536110_cm_raw_ver_merged_wl.csv')"
   ]
  },
  {
   "cell_type": "code",
   "execution_count": 4,
   "metadata": {},
   "outputs": [
    {
     "data": {
      "image/png": "[encoded data removed]",
      "text/plain": [
       "<Figure size 432x288 with 2 Axes>"
      ]
     },
     "metadata": {
      "needs_background": "light"
     },
     "output_type": "display_data"
    }
   ],
   "source": [
    "# Clean the data\n",
    "data_cleaned = utils.initial_data_prep(dataIn)\n",
    "data_cleaned = utils.remove_extra_datapoints(data_cleaned)"
   ]
  },
  {
   "cell_type": "markdown",
   "metadata": {},
   "source": [
    "So, above is the an example of loaded and cleaned dataset. To avoid repeating this process, we did this for all of the available datasets and saved them to pickle files. "
   ]
  },
  {
   "cell_type": "markdown",
   "metadata": {},
   "source": []
  },
  {
   "cell_type": "code",
   "execution_count": null,
   "metadata": {},
   "outputs": [],
   "source": [
    "cleaned = pd.read_pickle(\"8536110_cm_raw_ver_merged_wl_Cleaned\")"
   ]
  }
 ],
 "metadata": {
  "kernelspec": {
   "display_name": "Python 3",
   "language": "python",
   "name": "python3"
  },
  "language_info": {
   "codemirror_mode": {
    "name": "ipython",
    "version": 3
   },
   "file_extension": ".py",
   "mimetype": "text/x-python",
   "name": "python",
   "nbconvert_exporter": "python",
   "pygments_lexer": "ipython3",
   "version": "3.7.4"
  }
 },
 "nbformat": 4,
 "nbformat_minor": 2
}
