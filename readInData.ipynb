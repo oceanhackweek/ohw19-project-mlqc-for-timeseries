{
 "cells": [
  {
   "cell_type": "code",
   "execution_count": 1,
   "metadata": {},
   "outputs": [],
   "source": [
    "import pandas as pd\n",
    "import datetime"
   ]
  },
  {
   "cell_type": "code",
   "execution_count": 2,
   "metadata": {},
   "outputs": [],
   "source": [
    "#fileName to import\n",
    "filenameIn='gs://ohw_example/mlqcfortimeseries/8443970_boston_raw_ver_merged_wl.csv'"
   ]
  },
  {
   "cell_type": "code",
   "execution_count": 12,
   "metadata": {},
   "outputs": [
    {
     "data": {
      "text/html": [
       "<div>\n",
       "<style scoped>\n",
       "    .dataframe tbody tr th:only-of-type {\n",
       "        vertical-align: middle;\n",
       "    }\n",
       "\n",
       "    .dataframe tbody tr th {\n",
       "        vertical-align: top;\n",
       "    }\n",
       "\n",
       "    .dataframe thead th {\n",
       "        text-align: right;\n",
       "    }\n",
       "</style>\n",
       "<table border=\"1\" class=\"dataframe\">\n",
       "  <thead>\n",
       "    <tr style=\"text-align: right;\">\n",
       "      <th></th>\n",
       "      <th>primary</th>\n",
       "      <th>sigma</th>\n",
       "      <th>backup</th>\n",
       "      <th>verified</th>\n",
       "      <th>prediction</th>\n",
       "    </tr>\n",
       "    <tr>\n",
       "      <th>time</th>\n",
       "      <th></th>\n",
       "      <th></th>\n",
       "      <th></th>\n",
       "      <th></th>\n",
       "      <th></th>\n",
       "    </tr>\n",
       "  </thead>\n",
       "  <tbody>\n",
       "    <tr>\n",
       "      <th>2001-01-01 00:00:00</th>\n",
       "      <td>-99999.999</td>\n",
       "      <td>-99999.999</td>\n",
       "      <td>-99999.999</td>\n",
       "      <td>-99999.999</td>\n",
       "      <td>-0.616</td>\n",
       "    </tr>\n",
       "    <tr>\n",
       "      <th>2001-01-01 00:06:00</th>\n",
       "      <td>-99999.999</td>\n",
       "      <td>-99999.999</td>\n",
       "      <td>-99999.999</td>\n",
       "      <td>-99999.999</td>\n",
       "      <td>-0.671</td>\n",
       "    </tr>\n",
       "    <tr>\n",
       "      <th>2001-01-01 00:12:00</th>\n",
       "      <td>-99999.999</td>\n",
       "      <td>-99999.999</td>\n",
       "      <td>-99999.999</td>\n",
       "      <td>-99999.999</td>\n",
       "      <td>-0.725</td>\n",
       "    </tr>\n",
       "    <tr>\n",
       "      <th>2001-01-01 00:18:00</th>\n",
       "      <td>-99999.999</td>\n",
       "      <td>-99999.999</td>\n",
       "      <td>-99999.999</td>\n",
       "      <td>-99999.999</td>\n",
       "      <td>-0.778</td>\n",
       "    </tr>\n",
       "    <tr>\n",
       "      <th>2001-01-01 00:24:00</th>\n",
       "      <td>-99999.999</td>\n",
       "      <td>-99999.999</td>\n",
       "      <td>-99999.999</td>\n",
       "      <td>-99999.999</td>\n",
       "      <td>-0.830</td>\n",
       "    </tr>\n",
       "  </tbody>\n",
       "</table>\n",
       "</div>"
      ],
      "text/plain": [
       "                       primary      sigma     backup   verified  prediction\n",
       "time                                                                       \n",
       "2001-01-01 00:00:00 -99999.999 -99999.999 -99999.999 -99999.999      -0.616\n",
       "2001-01-01 00:06:00 -99999.999 -99999.999 -99999.999 -99999.999      -0.671\n",
       "2001-01-01 00:12:00 -99999.999 -99999.999 -99999.999 -99999.999      -0.725\n",
       "2001-01-01 00:18:00 -99999.999 -99999.999 -99999.999 -99999.999      -0.778\n",
       "2001-01-01 00:24:00 -99999.999 -99999.999 -99999.999 -99999.999      -0.830"
      ]
     },
     "execution_count": 12,
     "metadata": {},
     "output_type": "execute_result"
    }
   ],
   "source": [
    "#Read in the file with pandas\n",
    "dataIn = pd.read_csv(filenameIn, index_col=0, parse_dates=True, \n",
    "                     usecols=['DATE_TIME','A1_WL_VALUE_MSL','A1_WL_SIGMA','B1_WL_VALUE_MSL','VER_WL_VALUE_MSL','PRED_WL_VALUE_MSL']\n",
    "                     )\n",
    "dataIn.columns = ['primary','sigma','backup','verified','prediction']\n",
    "dataIn.index.name ='time'\n",
    "dataIn.head()"
   ]
  },
  {
   "cell_type": "code",
   "execution_count": 5,
   "metadata": {},
   "outputs": [],
   "source": [
    "#decide what time window we want to grab to start prototyping with\n",
    "#For all stations 2010-2014 looks like a good place to start\n",
    "timeStart='2010-01-01 00:00:00'\n",
    "timeEnd='2014-12-31 23:54:00'"
   ]
  }
 ],
 "metadata": {
  "kernelspec": {
   "display_name": "Python 3",
   "language": "python",
   "name": "python3"
  },
  "language_info": {
   "codemirror_mode": {
    "name": "ipython",
    "version": 3
   },
   "file_extension": ".py",
   "mimetype": "text/x-python",
   "name": "python",
   "nbconvert_exporter": "python",
   "pygments_lexer": "ipython3",
   "version": "3.7.3"
  }
 },
 "nbformat": 4,
 "nbformat_minor": 4
}
