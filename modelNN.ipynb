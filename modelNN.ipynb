{
 "cells": [
  {
   "cell_type": "code",
   "execution_count": 70,
   "metadata": {},
   "outputs": [],
   "source": [
    "%matplotlib inline\n",
    "\n",
    "import pandas as pd\n",
    "import datetime\n",
    "import matplotlib.pyplot as plt\n",
    "import matplotlib\n",
    "import numpy as np\n",
    "import hvplot.pandas\n",
    "from sklearn.utils import shuffle"
   ]
  },
  {
   "cell_type": "markdown",
   "metadata": {},
   "source": [
    "Read in the data from the files"
   ]
  },
  {
   "cell_type": "code",
   "execution_count": 61,
   "metadata": {},
   "outputs": [
    {
     "data": {
      "text/html": [
       "<div>\n",
       "<style scoped>\n",
       "    .dataframe tbody tr th:only-of-type {\n",
       "        vertical-align: middle;\n",
       "    }\n",
       "\n",
       "    .dataframe tbody tr th {\n",
       "        vertical-align: top;\n",
       "    }\n",
       "\n",
       "    .dataframe thead th {\n",
       "        text-align: right;\n",
       "    }\n",
       "</style>\n",
       "<table border=\"1\" class=\"dataframe\">\n",
       "  <thead>\n",
       "    <tr style=\"text-align: right;\">\n",
       "      <th></th>\n",
       "      <th>time</th>\n",
       "      <th>primary</th>\n",
       "      <th>sigma</th>\n",
       "      <th>backup</th>\n",
       "      <th>verified</th>\n",
       "      <th>prediction</th>\n",
       "      <th>goodPts</th>\n",
       "    </tr>\n",
       "  </thead>\n",
       "  <tbody>\n",
       "    <tr>\n",
       "      <th>0</th>\n",
       "      <td>2007-01-01 00:00:00</td>\n",
       "      <td>0.459</td>\n",
       "      <td>0.006</td>\n",
       "      <td>0.446</td>\n",
       "      <td>0.459</td>\n",
       "      <td>0.385</td>\n",
       "      <td>1</td>\n",
       "    </tr>\n",
       "    <tr>\n",
       "      <th>1</th>\n",
       "      <td>2007-01-01 00:06:00</td>\n",
       "      <td>0.437</td>\n",
       "      <td>0.005</td>\n",
       "      <td>0.425</td>\n",
       "      <td>0.437</td>\n",
       "      <td>0.365</td>\n",
       "      <td>1</td>\n",
       "    </tr>\n",
       "    <tr>\n",
       "      <th>2</th>\n",
       "      <td>2007-01-01 00:12:00</td>\n",
       "      <td>0.400</td>\n",
       "      <td>0.006</td>\n",
       "      <td>0.388</td>\n",
       "      <td>0.400</td>\n",
       "      <td>0.344</td>\n",
       "      <td>1</td>\n",
       "    </tr>\n",
       "    <tr>\n",
       "      <th>3</th>\n",
       "      <td>2007-01-01 00:18:00</td>\n",
       "      <td>0.376</td>\n",
       "      <td>0.006</td>\n",
       "      <td>0.363</td>\n",
       "      <td>0.376</td>\n",
       "      <td>0.321</td>\n",
       "      <td>1</td>\n",
       "    </tr>\n",
       "    <tr>\n",
       "      <th>4</th>\n",
       "      <td>2007-01-01 00:24:00</td>\n",
       "      <td>0.354</td>\n",
       "      <td>0.006</td>\n",
       "      <td>0.342</td>\n",
       "      <td>0.354</td>\n",
       "      <td>0.297</td>\n",
       "      <td>1</td>\n",
       "    </tr>\n",
       "  </tbody>\n",
       "</table>\n",
       "</div>"
      ],
      "text/plain": [
       "                  time  primary  sigma  backup  verified  prediction  goodPts\n",
       "0  2007-01-01 00:00:00    0.459  0.006   0.446     0.459       0.385        1\n",
       "1  2007-01-01 00:06:00    0.437  0.005   0.425     0.437       0.365        1\n",
       "2  2007-01-01 00:12:00    0.400  0.006   0.388     0.400       0.344        1\n",
       "3  2007-01-01 00:18:00    0.376  0.006   0.363     0.376       0.321        1\n",
       "4  2007-01-01 00:24:00    0.354  0.006   0.342     0.354       0.297        1"
      ]
     },
     "execution_count": 61,
     "metadata": {},
     "output_type": "execute_result"
    }
   ],
   "source": [
    "cleaned = pd.read_pickle(\"8536110_cm_raw_ver_merged_wl_Cleaned\")\n",
    "features = pd.read_pickle(\"8536110_cm_raw_ver_merged_wl_Features\")\n",
    "targets = pd.read_pickle(\"8536110_cm_raw_ver_merged_wl_Target\")\n",
    "\n",
    "cleaned['goodPts']=targets['goodPts']\n",
    "\n",
    "\n",
    "\n",
    "cleaned.head()"
   ]
  },
  {
   "cell_type": "code",
   "execution_count": 62,
   "metadata": {},
   "outputs": [],
   "source": [
    "cleaned.set_index('time', inplace = True)"
   ]
  },
  {
   "cell_type": "code",
   "execution_count": 63,
   "metadata": {},
   "outputs": [
    {
     "data": {
      "text/html": [
       "<div>\n",
       "<style scoped>\n",
       "    .dataframe tbody tr th:only-of-type {\n",
       "        vertical-align: middle;\n",
       "    }\n",
       "\n",
       "    .dataframe tbody tr th {\n",
       "        vertical-align: top;\n",
       "    }\n",
       "\n",
       "    .dataframe thead th {\n",
       "        text-align: right;\n",
       "    }\n",
       "</style>\n",
       "<table border=\"1\" class=\"dataframe\">\n",
       "  <thead>\n",
       "    <tr style=\"text-align: right;\">\n",
       "      <th></th>\n",
       "      <th>primary</th>\n",
       "      <th>sigma</th>\n",
       "      <th>backup</th>\n",
       "      <th>verified</th>\n",
       "      <th>prediction</th>\n",
       "      <th>goodPts</th>\n",
       "    </tr>\n",
       "    <tr>\n",
       "      <th>time</th>\n",
       "      <th></th>\n",
       "      <th></th>\n",
       "      <th></th>\n",
       "      <th></th>\n",
       "      <th></th>\n",
       "      <th></th>\n",
       "    </tr>\n",
       "  </thead>\n",
       "  <tbody>\n",
       "    <tr>\n",
       "      <th>2007-01-01 00:00:00</th>\n",
       "      <td>0.459</td>\n",
       "      <td>0.006</td>\n",
       "      <td>0.446</td>\n",
       "      <td>0.459</td>\n",
       "      <td>0.385</td>\n",
       "      <td>1</td>\n",
       "    </tr>\n",
       "    <tr>\n",
       "      <th>2007-01-01 00:06:00</th>\n",
       "      <td>0.437</td>\n",
       "      <td>0.005</td>\n",
       "      <td>0.425</td>\n",
       "      <td>0.437</td>\n",
       "      <td>0.365</td>\n",
       "      <td>1</td>\n",
       "    </tr>\n",
       "    <tr>\n",
       "      <th>2007-01-01 00:12:00</th>\n",
       "      <td>0.400</td>\n",
       "      <td>0.006</td>\n",
       "      <td>0.388</td>\n",
       "      <td>0.400</td>\n",
       "      <td>0.344</td>\n",
       "      <td>1</td>\n",
       "    </tr>\n",
       "    <tr>\n",
       "      <th>2007-01-01 00:18:00</th>\n",
       "      <td>0.376</td>\n",
       "      <td>0.006</td>\n",
       "      <td>0.363</td>\n",
       "      <td>0.376</td>\n",
       "      <td>0.321</td>\n",
       "      <td>1</td>\n",
       "    </tr>\n",
       "    <tr>\n",
       "      <th>2007-01-01 00:24:00</th>\n",
       "      <td>0.354</td>\n",
       "      <td>0.006</td>\n",
       "      <td>0.342</td>\n",
       "      <td>0.354</td>\n",
       "      <td>0.297</td>\n",
       "      <td>1</td>\n",
       "    </tr>\n",
       "  </tbody>\n",
       "</table>\n",
       "</div>"
      ],
      "text/plain": [
       "                     primary  sigma  backup  verified  prediction  goodPts\n",
       "time                                                                      \n",
       "2007-01-01 00:00:00    0.459  0.006   0.446     0.459       0.385        1\n",
       "2007-01-01 00:06:00    0.437  0.005   0.425     0.437       0.365        1\n",
       "2007-01-01 00:12:00    0.400  0.006   0.388     0.400       0.344        1\n",
       "2007-01-01 00:18:00    0.376  0.006   0.363     0.376       0.321        1\n",
       "2007-01-01 00:24:00    0.354  0.006   0.342     0.354       0.297        1"
      ]
     },
     "execution_count": 63,
     "metadata": {},
     "output_type": "execute_result"
    }
   ],
   "source": [
    "cleaned.head()"
   ]
  },
  {
   "cell_type": "markdown",
   "metadata": {},
   "source": [
    "Break up into training and test sections, training from 2012:2013 and test from 2014:2015"
   ]
  },
  {
   "cell_type": "code",
   "execution_count": 64,
   "metadata": {},
   "outputs": [],
   "source": [
    "cmTrain = cleaned.loc['2012-01-01 00:00:00':'2013-12-31 23:54:00']\n",
    "cmTest = cleaned.loc['2014-01-01 00:00:00':'2015-12-31 23:54:00']"
   ]
  },
  {
   "cell_type": "markdown",
   "metadata": {},
   "source": [
    "Shuffle the individual training and testing sections to aid with NN fit"
   ]
  },
  {
   "cell_type": "code",
   "execution_count": 74,
   "metadata": {},
   "outputs": [
    {
     "data": {
      "text/html": [
       "<div>\n",
       "<style scoped>\n",
       "    .dataframe tbody tr th:only-of-type {\n",
       "        vertical-align: middle;\n",
       "    }\n",
       "\n",
       "    .dataframe tbody tr th {\n",
       "        vertical-align: top;\n",
       "    }\n",
       "\n",
       "    .dataframe thead th {\n",
       "        text-align: right;\n",
       "    }\n",
       "</style>\n",
       "<table border=\"1\" class=\"dataframe\">\n",
       "  <thead>\n",
       "    <tr style=\"text-align: right;\">\n",
       "      <th></th>\n",
       "      <th>primary</th>\n",
       "      <th>sigma</th>\n",
       "      <th>backup</th>\n",
       "      <th>verified</th>\n",
       "      <th>prediction</th>\n",
       "      <th>goodPts</th>\n",
       "    </tr>\n",
       "    <tr>\n",
       "      <th>time</th>\n",
       "      <th></th>\n",
       "      <th></th>\n",
       "      <th></th>\n",
       "      <th></th>\n",
       "      <th></th>\n",
       "      <th></th>\n",
       "    </tr>\n",
       "  </thead>\n",
       "  <tbody>\n",
       "    <tr>\n",
       "      <th>2015-04-17 17:06:00</th>\n",
       "      <td>-0.882</td>\n",
       "      <td>0.004</td>\n",
       "      <td>-0.884</td>\n",
       "      <td>-0.882</td>\n",
       "      <td>-0.870</td>\n",
       "      <td>1</td>\n",
       "    </tr>\n",
       "    <tr>\n",
       "      <th>2014-10-01 15:12:00</th>\n",
       "      <td>0.432</td>\n",
       "      <td>0.006</td>\n",
       "      <td>0.434</td>\n",
       "      <td>0.432</td>\n",
       "      <td>0.148</td>\n",
       "      <td>1</td>\n",
       "    </tr>\n",
       "    <tr>\n",
       "      <th>2015-07-02 21:12:00</th>\n",
       "      <td>-0.276</td>\n",
       "      <td>0.007</td>\n",
       "      <td>-0.284</td>\n",
       "      <td>-0.276</td>\n",
       "      <td>-0.459</td>\n",
       "      <td>1</td>\n",
       "    </tr>\n",
       "    <tr>\n",
       "      <th>2014-02-12 17:00:00</th>\n",
       "      <td>-0.491</td>\n",
       "      <td>0.005</td>\n",
       "      <td>-0.499</td>\n",
       "      <td>-0.491</td>\n",
       "      <td>-0.631</td>\n",
       "      <td>1</td>\n",
       "    </tr>\n",
       "    <tr>\n",
       "      <th>2014-01-12 05:42:00</th>\n",
       "      <td>-0.369</td>\n",
       "      <td>0.008</td>\n",
       "      <td>-0.397</td>\n",
       "      <td>-0.369</td>\n",
       "      <td>-0.600</td>\n",
       "      <td>1</td>\n",
       "    </tr>\n",
       "  </tbody>\n",
       "</table>\n",
       "</div>"
      ],
      "text/plain": [
       "                     primary  sigma  backup  verified  prediction  goodPts\n",
       "time                                                                      \n",
       "2015-04-17 17:06:00   -0.882  0.004  -0.884    -0.882      -0.870        1\n",
       "2014-10-01 15:12:00    0.432  0.006   0.434     0.432       0.148        1\n",
       "2015-07-02 21:12:00   -0.276  0.007  -0.284    -0.276      -0.459        1\n",
       "2014-02-12 17:00:00   -0.491  0.005  -0.499    -0.491      -0.631        1\n",
       "2014-01-12 05:42:00   -0.369  0.008  -0.397    -0.369      -0.600        1"
      ]
     },
     "execution_count": 74,
     "metadata": {},
     "output_type": "execute_result"
    }
   ],
   "source": [
    "cmTrainRand=shuffle(cmTrain)\n",
    "cmTestRand=shuffle(cmTest)\n",
    "cmTestRand.head()"
   ]
  },
  {
   "cell_type": "code",
   "execution_count": 86,
   "metadata": {},
   "outputs": [],
   "source": [
    "featureTrain=cmTrainRand.loc[:,['primary','sigma','backup','prediction']]\n",
    "featureTest=cmTestRand.loc[:,['primary','sigma','backup','prediction']]\n",
    "\n",
    "targetTrain=cmTrainRand.loc[:,['goodPts']]\n",
    "targetTest=cmTestRand.loc[:,['goodPts']]\n",
    "\n",
    "predictFeatures = cmTest.loc[:,['primary','sigma','backup','prediction']]\n"
   ]
  },
  {
   "cell_type": "markdown",
   "metadata": {},
   "source": [
    "Set up the keras NN model"
   ]
  },
  {
   "cell_type": "code",
   "execution_count": 75,
   "metadata": {},
   "outputs": [
    {
     "name": "stderr",
     "output_type": "stream",
     "text": [
      "Using TensorFlow backend.\n",
      "/srv/conda/envs/notebook/lib/python3.7/site-packages/tensorflow/python/framework/dtypes.py:526: FutureWarning: Passing (type, 1) or '1type' as a synonym of type is deprecated; in a future version of numpy, it will be understood as (type, (1,)) / '(1,)type'.\n",
      "  _np_qint8 = np.dtype([(\"qint8\", np.int8, 1)])\n",
      "/srv/conda/envs/notebook/lib/python3.7/site-packages/tensorflow/python/framework/dtypes.py:527: FutureWarning: Passing (type, 1) or '1type' as a synonym of type is deprecated; in a future version of numpy, it will be understood as (type, (1,)) / '(1,)type'.\n",
      "  _np_quint8 = np.dtype([(\"quint8\", np.uint8, 1)])\n",
      "/srv/conda/envs/notebook/lib/python3.7/site-packages/tensorflow/python/framework/dtypes.py:528: FutureWarning: Passing (type, 1) or '1type' as a synonym of type is deprecated; in a future version of numpy, it will be understood as (type, (1,)) / '(1,)type'.\n",
      "  _np_qint16 = np.dtype([(\"qint16\", np.int16, 1)])\n",
      "/srv/conda/envs/notebook/lib/python3.7/site-packages/tensorflow/python/framework/dtypes.py:529: FutureWarning: Passing (type, 1) or '1type' as a synonym of type is deprecated; in a future version of numpy, it will be understood as (type, (1,)) / '(1,)type'.\n",
      "  _np_quint16 = np.dtype([(\"quint16\", np.uint16, 1)])\n",
      "/srv/conda/envs/notebook/lib/python3.7/site-packages/tensorflow/python/framework/dtypes.py:530: FutureWarning: Passing (type, 1) or '1type' as a synonym of type is deprecated; in a future version of numpy, it will be understood as (type, (1,)) / '(1,)type'.\n",
      "  _np_qint32 = np.dtype([(\"qint32\", np.int32, 1)])\n",
      "/srv/conda/envs/notebook/lib/python3.7/site-packages/tensorflow/python/framework/dtypes.py:535: FutureWarning: Passing (type, 1) or '1type' as a synonym of type is deprecated; in a future version of numpy, it will be understood as (type, (1,)) / '(1,)type'.\n",
      "  np_resource = np.dtype([(\"resource\", np.ubyte, 1)])\n"
     ]
    }
   ],
   "source": [
    "from keras.models import Sequential\n",
    "from keras.layers import Dense, Activation"
   ]
  },
  {
   "cell_type": "code",
   "execution_count": 76,
   "metadata": {},
   "outputs": [
    {
     "name": "stdout",
     "output_type": "stream",
     "text": [
      "WARNING:tensorflow:From /srv/conda/envs/notebook/lib/python3.7/site-packages/tensorflow/python/framework/op_def_library.py:263: colocate_with (from tensorflow.python.framework.ops) is deprecated and will be removed in a future version.\n",
      "Instructions for updating:\n",
      "Colocations handled automatically by placer.\n"
     ]
    }
   ],
   "source": [
    "# For a single-input model with 2 classes (binary classification):\n",
    "\n",
    "model = Sequential()\n",
    "model.add(Dense(16, activation='relu', input_dim=4))\n",
    "model.add(Dense(16, activation='relu'))\n",
    "model.add(Dense(1, activation='sigmoid'))\n",
    "model.compile(optimizer='rmsprop',\n",
    "              loss='binary_crossentropy',\n",
    "              metrics=['accuracy'])"
   ]
  },
  {
   "cell_type": "code",
   "execution_count": 83,
   "metadata": {},
   "outputs": [
    {
     "name": "stdout",
     "output_type": "stream",
     "text": [
      "WARNING:tensorflow:From /srv/conda/envs/notebook/lib/python3.7/site-packages/tensorflow/python/ops/math_ops.py:3066: to_int32 (from tensorflow.python.ops.math_ops) is deprecated and will be removed in a future version.\n",
      "Instructions for updating:\n",
      "Use tf.cast instead.\n",
      "Train on 145928 samples, validate on 173524 samples\n",
      "Epoch 1/10\n",
      "145928/145928 [==============================] - 7s 49us/step - loss: 0.0464 - acc: 0.9949 - val_loss: 0.1302 - val_acc: 0.9633\n",
      "Epoch 2/10\n",
      "145928/145928 [==============================] - 7s 46us/step - loss: 0.0206 - acc: 0.9969 - val_loss: 0.1147 - val_acc: 0.9756\n",
      "Epoch 3/10\n",
      "145928/145928 [==============================] - 7s 45us/step - loss: 0.0204 - acc: 0.9970 - val_loss: 0.1012 - val_acc: 0.9786\n",
      "Epoch 4/10\n",
      "145928/145928 [==============================] - 6s 43us/step - loss: 0.0203 - acc: 0.9970 - val_loss: 0.0953 - val_acc: 0.9803\n",
      "Epoch 5/10\n",
      "145928/145928 [==============================] - 7s 50us/step - loss: 0.0202 - acc: 0.9970 - val_loss: 0.0939 - val_acc: 0.9808\n",
      "Epoch 6/10\n",
      "145928/145928 [==============================] - 7s 45us/step - loss: 0.0199 - acc: 0.9970 - val_loss: 0.0913 - val_acc: 0.9813\n",
      "Epoch 7/10\n",
      "145928/145928 [==============================] - 6s 43us/step - loss: 0.0193 - acc: 0.9970 - val_loss: 0.0966 - val_acc: 0.9819\n",
      "Epoch 8/10\n",
      "145928/145928 [==============================] - 7s 45us/step - loss: 0.0189 - acc: 0.9970 - val_loss: 0.0945 - val_acc: 0.9832\n",
      "Epoch 9/10\n",
      "145928/145928 [==============================] - 7s 46us/step - loss: 0.0184 - acc: 0.9970 - val_loss: 0.1049 - val_acc: 0.9838\n",
      "Epoch 10/10\n",
      "145928/145928 [==============================] - 7s 45us/step - loss: 0.0180 - acc: 0.9970 - val_loss: 0.1013 - val_acc: 0.9847\n"
     ]
    }
   ],
   "source": [
    "# Train the model, iterating on the data in batches of 64 samples\n",
    "history = model.fit(featureTrain, targetTrain, epochs=10, batch_size=64, validation_data=(featureTest, targetTest))"
   ]
  },
  {
   "cell_type": "code",
   "execution_count": 84,
   "metadata": {},
   "outputs": [
    {
     "name": "stdout",
     "output_type": "stream",
     "text": [
      "173524/173524 [==============================] - 3s 16us/step\n"
     ]
    },
    {
     "data": {
      "text/plain": [
       "[0.10129512335588535, 0.984693759940988]"
      ]
     },
     "execution_count": 84,
     "metadata": {},
     "output_type": "execute_result"
    }
   ],
   "source": [
    "#Evaulate the model\n",
    "eval_model=model.evaluate(featureTest, targetTest)\n",
    "eval_model"
   ]
  },
  {
   "cell_type": "code",
   "execution_count": 85,
   "metadata": {},
   "outputs": [
    {
     "data": {
      "text/plain": [
       "[<matplotlib.lines.Line2D at 0x7fc063886ba8>]"
      ]
     },
     "execution_count": 85,
     "metadata": {},
     "output_type": "execute_result"
    },
    {
     "data": {
      "image/png": "[encoded data removed]",
      "text/plain": [
       "<Figure size 432x288 with 1 Axes>"
      ]
     },
     "metadata": {
      "needs_background": "light"
     },
     "output_type": "display_data"
    }
   ],
   "source": [
    "#Plot the NN accuracy over each epoch\n",
    "plt.plot(history.history['acc'])\n",
    "plt.plot(history.history['val_acc'])"
   ]
  },
  {
   "cell_type": "code",
   "execution_count": 87,
   "metadata": {},
   "outputs": [],
   "source": [
    "#Generate predictions for the test period\n",
    "modelPrediction = model.predict(predictFeatures, batch_size=32)"
   ]
  },
  {
   "cell_type": "code",
   "execution_count": 90,
   "metadata": {},
   "outputs": [
    {
     "data": {
      "text/plain": [
       "(173524, 1)"
      ]
     },
     "execution_count": 90,
     "metadata": {},
     "output_type": "execute_result"
    }
   ],
   "source": [
    "np.shape(modelPrediction)"
   ]
  },
  {
   "cell_type": "code",
   "execution_count": 91,
   "metadata": {},
   "outputs": [
    {
     "data": {
      "text/plain": [
       "[<matplotlib.lines.Line2D at 0x7fc060f888d0>]"
      ]
     },
     "execution_count": 91,
     "metadata": {},
     "output_type": "execute_result"
    },
    {
     "data": {
      "image/png": "[encoded data removed]",
      "text/plain": [
       "<Figure size 432x288 with 1 Axes>"
      ]
     },
     "metadata": {
      "needs_background": "light"
     },
     "output_type": "display_data"
    }
   ],
   "source": [
    "plt.plot(modelPrediction)"
   ]
  },
  {
   "cell_type": "code",
   "execution_count": null,
   "metadata": {},
   "outputs": [],
   "source": []
  }
 ],
 "metadata": {
  "kernelspec": {
   "display_name": "Python 3",
   "language": "python",
   "name": "python3"
  },
  "language_info": {
   "codemirror_mode": {
    "name": "ipython",
    "version": 3
   },
   "file_extension": ".py",
   "mimetype": "text/x-python",
   "name": "python",
   "nbconvert_exporter": "python",
   "pygments_lexer": "ipython3",
   "version": "3.7.3"
  }
 },
 "nbformat": 4,
 "nbformat_minor": 4
}
