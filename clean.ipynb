{
 "cells": [
  {
   "cell_type": "code",
   "execution_count": 1,
   "metadata": {},
   "outputs": [],
   "source": [
    "import pandas as pd\n",
    "import datetime\n",
    "import numpy as np\n",
    "import matplotlib.pyplot as mp"
   ]
  },
  {
   "cell_type": "code",
   "execution_count": 2,
   "metadata": {},
   "outputs": [],
   "source": [
    "#Read in the file with pandas\n",
    "def readInWL(filenameIn):\n",
    "   dataIn = pd.read_csv(filenameIn, index_col=0, parse_dates=False,\n",
    "                        usecols=['DATE_TIME','A1_WL_VALUE_MSL','A1_WL_SIGMA','B1_WL_VALUE_MSL','VER_WL_VALUE_MSL','PRED_WL_VALUE_MSL']\n",
    "                        )\n",
    "   dataIn.columns = ['primary','sigma','backup','verified','prediction']\n",
    "   dataIn.index.name ='time'\n",
    "   dataIn = dataIn.apply(pd.to_numeric, errors='coerce')\n",
    "   dataIn.head()\n",
    "   return dataIn"
   ]
  },
  {
   "cell_type": "code",
   "execution_count": 14,
   "metadata": {},
   "outputs": [],
   "source": [
    "def initial_data_prep(dataIn):\n",
    "    \"\"\"Does some initial data preparation\n",
    "    such as replacing -999999 with Nans\n",
    "    and subsetting the data range.\"\"\"\n",
    "    \n",
    "    # Replace -99999 with NaNs\n",
    "    dataIn.mask( (dataIn <= -1000), inplace=True)\n",
    "    \n",
    "    # drop any lines with NaNs\n",
    "    dataUnNaN = dataIn.dropna()\n",
    "    \n",
    "    # decide what time window we want to extract and clean\n",
    "    # only data after 2007 are any good\n",
    "    timeStart='2007-01-01 00:00:00'\n",
    "    timeEnd='2017-12-31 23:54:00'   \n",
    "    dataSub = dataUnNaN[timeStart:timeEnd]\n",
    "    \n",
    "    # Change the index\n",
    "    data_indexed = dataSub.reset_index()\n",
    "    \n",
    "    return data_indexed"
   ]
  },
  {
   "cell_type": "code",
   "execution_count": 9,
   "metadata": {},
   "outputs": [],
   "source": [
    "def remove_extra_datapoints(data_indexed):\n",
    "    \"\"\"Removes extra datapoints that are occuring\n",
    "    between the expected datapoints that should only\n",
    "    occur every 6 minutes.\"\"\"\n",
    "\n",
    "    # Pull out the time column\n",
    "    time_asdatetime = data_indexed.time\n",
    "    # convert to datetime\n",
    "    time_asdt = pd.to_datetime(time_asdatetime)\n",
    "    # pull out the minutes from the datetime\n",
    "    minutes = time_asdt.dt.minute\n",
    "    \n",
    "    fig = mp.figure()\n",
    "    \n",
    "    # lets see what our time differences look like\n",
    "    # before we clean the data\n",
    "    difftime = np.diff(time_asdt)\n",
    "    ax1 = mp.subplot(221)\n",
    "    ax1.set_title(\"Original Time Differences\")\n",
    "    ax1.plot(difftime)\n",
    "    \n",
    "    # all minutes must be 0, 6, 12, ... 54\n",
    "    goodminutes = range(0,60,6)\n",
    "    \n",
    "    # find and remove the bad minutes\n",
    "    goodmask = np.isin(minutes, goodminutes)\n",
    "    cleaned = data_indexed.loc[goodmask]\n",
    "    \n",
    "    # lets make sure we removed all the bad records\n",
    "    # by plotting the time differences of the cleaned data\n",
    "    cleantime = cleaned.time\n",
    "    cleandt = pd.to_datetime(cleantime)\n",
    "    cleandiff = np.diff(cleandt)\n",
    "    ax2 = mp.subplot(222)\n",
    "    ax2.set_title(\"Cleaned Time Differences\")\n",
    "    ax2.plot(cleandiff)\n",
    "    \n",
    "    return cleaned"
   ]
  },
  {
   "cell_type": "code",
   "execution_count": 10,
   "metadata": {},
   "outputs": [],
   "source": [
    "# fileName to import\n",
    "# we will focus on data from lewes and cape may (cm) from Jan 2012 - Dec 2015\n",
    "\n",
    "filenameIn='gs://ohw_example/mlqcfortimeseries/8536110_cm_raw_ver_merged_wl.csv'\n",
    "# filenameIn='gs://ohw_example/mlqcfortimeseries/8557380_lewes_raw_ver_merged_wl.csv'"
   ]
  },
  {
   "cell_type": "code",
   "execution_count": 11,
   "metadata": {},
   "outputs": [],
   "source": [
    "# read in the file\n",
    "dataIn = readInWL(filenameIn)"
   ]
  },
  {
   "cell_type": "code",
   "execution_count": 15,
   "metadata": {},
   "outputs": [],
   "source": [
    "# initial data prep (remove nans and subset)\n",
    "data_indexed = initial_data_prep(dataIn)"
   ]
  },
  {
   "cell_type": "code",
   "execution_count": 16,
   "metadata": {},
   "outputs": [
    {
     "data": {
      "image/png": "[encoded data removed]",
      "text/plain": [
       "<Figure size 432x288 with 2 Axes>"
      ]
     },
     "metadata": {
      "needs_background": "light"
     },
     "output_type": "display_data"
    }
   ],
   "source": [
    "# remove any datapoints that are less than 6 minutes apart\n",
    "cleaned = remove_extra_datapoints(data_indexed)"
   ]
  },
  {
   "cell_type": "code",
   "execution_count": null,
   "metadata": {},
   "outputs": [],
   "source": []
  }
 ],
 "metadata": {
  "kernelspec": {
   "display_name": "Python 3",
   "language": "python",
   "name": "python3"
  },
  "language_info": {
   "codemirror_mode": {
    "name": "ipython",
    "version": 3
   },
   "file_extension": ".py",
   "mimetype": "text/x-python",
   "name": "python",
   "nbconvert_exporter": "python",
   "pygments_lexer": "ipython3",
   "version": "3.7.3"
  }
 },
 "nbformat": 4,
 "nbformat_minor": 4
}
